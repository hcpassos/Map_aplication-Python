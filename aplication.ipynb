{
 "cells": [
  {
   "cell_type": "code",
   "execution_count": 4,
   "metadata": {},
   "outputs": [],
   "source": [
    "#Using folium and pandas to create the map and tkinter to create a graphic interface.\n",
    "import folium\n",
    "import pandas as pd\n",
    "from tkinter import *"
   ]
  },
  {
   "cell_type": "code",
   "execution_count": 5,
   "metadata": {},
   "outputs": [],
   "source": [
    "#Read the .csv\n",
    "history = pd.read_csv('location_and_signal_report1.csv',encoding='latin1')\n",
    "#Sorting by 'Data'\n",
    "hy = history.sort_values(['Data'])\n",
    "#\n",
    "lat = hy['Lat'][:500].values\n",
    "long = hy['Long'][:500].values\n",
    "name = hy['Nome'].values\n",
    "data = hy['Data']\n",
    "cordinates = []\n",
    "\n",
    "mapa = folium.Map(location=[-20.3222,-40.3381],zoom_start=11)\n",
    "\n",
    "valid = False\n",
    "\n",
    "#Selecting id: Vitoria=V, Serra=S, Cariacica_262=C, Vila_Velha=VV\n",
    "\n",
    "rep = 'V' #input(\"Select(V;S;C;VV): \")\n",
    "id = {'V':'Vitoria', 'S':'Serra', 'C':'Cariacica_262','VV':'Vila_Velha'}\n",
    "\n",
    "for lati,longi,n in zip(lat,long,name):\n",
    "    if n == id[rep]:\n",
    "        cordinates.append([lati,longi])\n",
    "\n",
    "MP=folium.PolyLine(locations=cordinates,weight=2)\n",
    "\n",
    "for la,lo,nm,dt in zip(lat,long,name,data):\n",
    "    if nm == id[rep]:\n",
    "        folium.Marker([la, lo], popup=dt,tooltip=nm).add_to(mapa)\n",
    "        mapa.add_child(MP)"
   ]
  },
  {
   "cell_type": "code",
   "execution_count": null,
   "metadata": {},
   "outputs": [],
   "source": [
    "from tkinter import *\n",
    "  \n",
    "class Application:\n",
    "    def __init__(self, master=None):\n",
    "        self.widget1 = Frame(master)\n",
    "        self.widget1.pack()\n",
    "        self.msg = Label(self.widget1, text=\"Primeiro widget\")\n",
    "        self.msg[\"font\"] = (\"Calibri\", \"9\", \"italic\")\n",
    "        self.msg.pack ()\n",
    "        self.sair = Button(self.widget1)\n",
    "        self.sair[\"text\"] = \"Gerar Mapa\"\n",
    "        self.sair[\"font\"] = (\"Calibri\", \"9\")\n",
    "        self.sair[\"width\"] = 10\n",
    "        self.sair.bind(\"<Button-1>\", self.Mapa)\n",
    "        self.sair.pack ()\n",
    "  \n",
    "    def Mapa(self, event):\n",
    "        if self.msg[\"text\"] == \"Primeiro widget\":\n",
    "            self.msg[\"text\"] = \"O botão recebeu um clique\"\n",
    "        else:\n",
    "            self.msg[\"text\"] = \"Primeiro widget\"\n",
    "  \n",
    "  \n",
    "root = Tk()\n",
    "Application(root)\n",
    "root.mainloop()"
   ]
  },
  {
   "cell_type": "code",
   "execution_count": null,
   "metadata": {},
   "outputs": [],
   "source": []
  },
  {
   "cell_type": "code",
   "execution_count": null,
   "metadata": {},
   "outputs": [],
   "source": []
  }
 ],
 "metadata": {
  "kernelspec": {
   "display_name": "Python 3",
   "language": "python",
   "name": "python3"
  },
  "language_info": {
   "codemirror_mode": {
    "name": "ipython",
    "version": 3
   },
   "file_extension": ".py",
   "mimetype": "text/x-python",
   "name": "python",
   "nbconvert_exporter": "python",
   "pygments_lexer": "ipython3",
   "version": "3.6.7"
  }
 },
 "nbformat": 4,
 "nbformat_minor": 2
}
