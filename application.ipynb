{
 "cells": [
  {
   "cell_type": "code",
   "execution_count": 1,
   "metadata": {},
   "outputs": [],
   "source": [
    "#Importaçao das bibliotecas\n",
    "import folium\n",
    "import pandas as pd\n",
    "import numpy as np\n",
    "from datetime import date as datetime\n",
    "from math import ceil"
   ]
  },
  {
   "cell_type": "code",
   "execution_count": 23,
   "metadata": {},
   "outputs": [],
   "source": [
    "#Leitura do csv\n",
    "history = pd.read_csv('location_and_signal_report.csv',sep=';',encoding='latin1')"
   ]
  },
  {
   "cell_type": "code",
   "execution_count": 4,
   "metadata": {},
   "outputs": [],
   "source": [
    "#Ordenando o dataset por data\n",
    "hy = history.sort_values(['Data'])"
   ]
  },
  {
   "cell_type": "code",
   "execution_count": 5,
   "metadata": {},
   "outputs": [],
   "source": [
    "#Definição das matrizes\n",
    "lat = np.array\n",
    "long = np.array\n",
    "name = np.array\n",
    "dthr = np.array\n",
    "dtshr = np.array\n",
    "pre = np.array"
   ]
  },
  {
   "cell_type": "code",
   "execution_count": 75,
   "metadata": {},
   "outputs": [],
   "source": [
    "#Selecionar id dos representantes por cidade: Vitoria=V, Serra=S, Guarapari=G, Vila_Velha=VV\n",
    "\n",
    "rep = input(\"Selecione (V;S;G;VV): \")\n",
    "id = {'V':'Vitoria', 'S':'Serra', 'G':'Guarapari','VV':'Vila_Velha'}"
   ]
  },
  {
   "cell_type": "code",
   "execution_count": 76,
   "metadata": {},
   "outputs": [],
   "source": [
    "#matrizes para variaveis dependentes/independentes\n",
    "for c in range(len(hy['Nome'])):\n",
    "    if id[rep] == hy['Nome'][c]: # and str(hy['Data'][c])[:10] == '2019-04-03':\n",
    "        lat = np.append(lat,hy['Lat'][c],axis=None)\n",
    "        long = np.append(long,hy['Long'][c],axis=None)\n",
    "        name = np.append(name,hy['Nome'][c],axis=None)\n",
    "        dthr = np.append(dthr,hy['Data'][c],axis=None)\n",
    "        dtshr = np.append(dtshr,str(hy['Data'][c])[:10],axis=None)\n",
    "        pre = np.append(pre,hy['Precisao'][c],axis=None)\n",
    "        semana = []\n",
    "lat = np.delete(lat,0)\n",
    "long = np.delete(long,0)\n",
    "name = np.delete(name,0)\n",
    "dthr = np.delete(dthr,0)\n",
    "dtshr = np.delete(dtshr,0)\n",
    "pre = np.delete(pre,0)"
   ]
  },
  {
   "cell_type": "code",
   "execution_count": 87,
   "metadata": {},
   "outputs": [],
   "source": [
    "diavenda = input(datetime(year=2019,month=4,day=11))\n",
    "                    \n",
    "def plot_mapa(rep,diavenda):\n",
    "    #Geração da matriz com as coordenadas\n",
    "    cordinates = []\n",
    "    for lati,longi,n,dt in zip(lat,long,name,dtshr):\n",
    "        if n == id[rep] and dt == str(diavenda):\n",
    "            cordinates.append([lati,longi])\n",
    "\n",
    "    #arestas usando a matriz com as coordenadas\n",
    "    MP=folium.PolyLine(locations=cordinates,weight=2,color='red')\n",
    "\n",
    "\n",
    "\n",
    "    #geração do mapa(sem pins) e centralização\n",
    "    mapa = folium.Map(location=[-20.3222,-40.3381],zoom_start=11)\n",
    "\n",
    "\n",
    "    #Marcação dos pins no mapa\n",
    "    for la,lo,nm,dt,dtabr in zip(lat,long,name,dthr,dtshr):\n",
    "        if nm == id[rep] and str(dtabr)==str(diavenda):\n",
    "            #print(rep,la,lo,dtabr,str(diavenda))\n",
    "            folium.Marker([la, lo], popup=dt,tooltip=nm).add_to(mapa)\n",
    "            mapa.add_child(MP)\n",
    "    #Salvando o html para envio\n",
    "    mapa.save(outfile=('Rota_dia_'+str(diavenda.day)+'.'+str(diavenda.month)+'.'+str(diavenda.year)+'_'+id[rep]+'.html'))\n",
    "plot_mapa(rep,diavenda)"
   ]
  },
  {
   "cell_type": "code",
   "execution_count": null,
   "metadata": {},
   "outputs": [],
   "source": []
  },
  {
   "cell_type": "code",
   "execution_count": null,
   "metadata": {},
   "outputs": [],
   "source": []
  }
 ],
 "metadata": {
  "kernelspec": {
   "display_name": "Python 3",
   "language": "python",
   "name": "python3"
  },
  "language_info": {
   "codemirror_mode": {
    "name": "ipython",
    "version": 3
   },
   "file_extension": ".py",
   "mimetype": "text/x-python",
   "name": "python",
   "nbconvert_exporter": "python",
   "pygments_lexer": "ipython3",
   "version": "3.6.7"
  }
 },
 "nbformat": 4,
 "nbformat_minor": 2
}
