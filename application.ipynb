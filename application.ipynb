{
 "cells": [
  {
   "cell_type": "code",
   "execution_count": 71,
   "metadata": {},
   "outputs": [],
   "source": [
    "#Importaçao das bibliotecas\n",
    "import folium\n",
    "import pandas as pd\n",
    "from datetime import date"
   ]
  },
  {
   "cell_type": "code",
   "execution_count": 60,
   "metadata": {},
   "outputs": [],
   "source": [
    "#Leitura do csv\n",
    "history = pd.read_csv('09042019ANT.csv',sep=';',encoding='latin1')"
   ]
  },
  {
   "cell_type": "code",
   "execution_count": 62,
   "metadata": {},
   "outputs": [],
   "source": [
    "#Ordenando o dataset por data\n",
    "hy = history.sort_values(['Data'])"
   ]
  },
  {
   "cell_type": "code",
   "execution_count": 63,
   "metadata": {},
   "outputs": [],
   "source": [
    "#arrays para variaveis dependentes/independentes\n",
    "lat = hy['Lat'][:500].values\n",
    "long = hy['Long'][:500].values\n",
    "name = hy['Nome'].values\n",
    "data = hy['Data'].values\n",
    "pre = hy['Precisao'].values\n",
    "cordinates = []"
   ]
  },
  {
   "cell_type": "code",
   "execution_count": 64,
   "metadata": {},
   "outputs": [],
   "source": [
    "#geração do mapa(sem pins) e centralização\n",
    "mapa = folium.Map(location=[-20.3222,-40.3381],zoom_start=11)"
   ]
  },
  {
   "cell_type": "code",
   "execution_count": 65,
   "metadata": {},
   "outputs": [],
   "source": [
    "#Selecting id: Vitoria=V, Serra=S, Cariacica_262=C, Vila_Velha=VV\n",
    "\n",
    "rep = 'VV' #input(\"Select(V;S;C;VV): \")\n",
    "id = {'V':'Vitoria', 'S':'Serra', 'C':'Cariacica_262','VV':'Vila_Velha'}"
   ]
  },
  {
   "cell_type": "code",
   "execution_count": 66,
   "metadata": {},
   "outputs": [],
   "source": [
    "#Geração do array com as coordenadas\n",
    "for lati,longi,n in zip(lat,long,name):\n",
    "    if n == id[rep]: # and diame[c] == '0405':\n",
    "        cordinates.append([lati,longi])"
   ]
  },
  {
   "cell_type": "code",
   "execution_count": 67,
   "metadata": {},
   "outputs": [],
   "source": [
    "#arestas usando o array com as coordenadas\n",
    "MP=folium.PolyLine(locations=cordinates,weight=2,color='red') "
   ]
  },
  {
   "cell_type": "code",
   "execution_count": 68,
   "metadata": {},
   "outputs": [],
   "source": [
    "#marcação dos pins no mapa\n",
    "for c,la,lo,nm,dt in zip(hy.index,lat,long,name,data):\n",
    "    if nm == id[rep]: # and diame[c] == '0405':\n",
    "        folium.Marker([la, lo], popup=dt,tooltip=nm).add_to(mapa)\n",
    "        mapa.add_child(MP)"
   ]
  },
  {
   "cell_type": "code",
   "execution_count": 70,
   "metadata": {},
   "outputs": [],
   "source": [
    "#plotagem do mapa"
   ]
  },
  {
   "cell_type": "code",
   "execution_count": 14,
   "metadata": {
    "slideshow": {
     "slide_type": "slide"
    }
   },
   "outputs": [],
   "source": [
    "#Salvando o html para envio\n",
    "mapa.save(outfile=('teste.html - '+id[rep]))"
   ]
  }
 ],
 "metadata": {
  "kernelspec": {
   "display_name": "Python 3",
   "language": "python",
   "name": "python3"
  },
  "language_info": {
   "codemirror_mode": {
    "name": "ipython",
    "version": 3
   },
   "file_extension": ".py",
   "mimetype": "text/x-python",
   "name": "python",
   "nbconvert_exporter": "python",
   "pygments_lexer": "ipython3",
   "version": "3.6.7"
  }
 },
 "nbformat": 4,
 "nbformat_minor": 2
}
